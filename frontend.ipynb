{
 "cells": [
  {
   "cell_type": "code",
   "execution_count": 5,
   "id": "279f3e76-a48e-467a-89d8-941c6fe10ee1",
   "metadata": {},
   "outputs": [],
   "source": [
    "import requests\n",
    "import ipywidgets as widgets\n",
    "from IPython.display import display"
   ]
  },
  {
   "cell_type": "code",
   "execution_count": 6,
   "id": "06d76993-e310-4e26-a3f1-9a0551c24920",
   "metadata": {},
   "outputs": [],
   "source": [
    "from bqplot import pyplot as plt\n",
    "import bqplot\n",
    "import numpy as np"
   ]
  },
  {
   "cell_type": "code",
   "execution_count": 7,
   "id": "a0094fb0-d4a4-49a1-a673-93b1f6159a6c",
   "metadata": {},
   "outputs": [],
   "source": [
    "base_url = \"http://127.0.0.1:5000/los-cangri/\"\n",
    "warehouse_url = base_url+'warehouse'"
   ]
  },
  {
   "cell_type": "code",
   "execution_count": 8,
   "id": "b156e451-db25-4329-ba52-bd74dad536c4",
   "metadata": {},
   "outputs": [],
   "source": [
    "data = requests.get(warehouse_url)"
   ]
  },
  {
   "cell_type": "code",
   "execution_count": 9,
   "id": "18301e39-7c6d-456d-a20a-dbc4323474d4",
   "metadata": {},
   "outputs": [
    {
     "data": {
      "application/vnd.jupyter.widget-view+json": {
       "model_id": "0b8cd9941ebf4757846deb0e681d5229",
       "version_major": 2,
       "version_minor": 0
      },
      "text/plain": [
       "interactive(children=(IntSlider(value=1, description='wid', max=3, min=-1), Output()), _dom_classes=('widget-i…"
      ]
     },
     "metadata": {},
     "output_type": "display_data"
    },
    {
     "data": {
      "text/plain": [
       "<function __main__.get_warehouse_data(wid: int)>"
      ]
     },
     "execution_count": 9,
     "metadata": {},
     "output_type": "execute_result"
    }
   ],
   "source": [
    "def get_warehouse_data(wid:int):\n",
    "    data = requests.get(warehouse_url+f'/{wid}')\n",
    "    return data.json()\n",
    "\n",
    "def get_warehouse_profit(wid:int, uid:int):\n",
    "    perms = {'User_id': uid}\n",
    "    data = requests.post(warehouse_url+f'/{wid}/profit', json=perms)\n",
    "    return data.json()\n",
    "\n",
    "def get_most_racks():\n",
    "    data = requests.get(base_url+'most/rack')\n",
    "    return data.json()\n",
    "\n",
    "widgets.interact(get_warehouse_data, wid=1)\n",
    "# widgets.interact(get_warehouse_profit, wid=1, uid=1)"
   ]
  },
  {
   "cell_type": "code",
   "execution_count": 10,
   "id": "b19f4241-8d96-4bd1-9cc7-142458092c52",
   "metadata": {},
   "outputs": [],
   "source": [
    "thing = '''\n",
    "a. /most/rack – Top 10 warehouses with the most racks\n",
    "b. /most/incoming – Top 5 warehouses with the most incoming transactions\n",
    "c. /most/deliver – Top 5 warehouses that delivers the most exchanges\n",
    "d. /most/transactions – Top 3 users that made the most transactionse. /least/outgoing – Top 3 warehouses with the least outgoing transactions\n",
    "f. /most/city – Top 3 warehouses’ cities with the most transactions\n",
    "'''"
   ]
  },
  {
   "cell_type": "code",
   "execution_count": 11,
   "id": "30e136af-d664-40ff-9c3d-c4b1e648459d",
   "metadata": {},
   "outputs": [
    {
     "data": {
      "application/vnd.jupyter.widget-view+json": {
       "model_id": "45c1729bf77f4eb4ab8ce4a495e3e748",
       "version_major": 2,
       "version_minor": 0
      },
      "text/plain": [
       "VBox(children=(Figure(axes=[Axis(label='WID', scale=OrdinalScale()), Axis(label='Count', orientation='vertical…"
      ]
     },
     "metadata": {},
     "output_type": "display_data"
    }
   ],
   "source": [
    "main_selection = widgets.Dropdown(options = ['Local Statistics', 'Global Statistics'])\n",
    "entity_selection = widgets.Dropdown(options =  ['Warehouse','User'])\n",
    "statistic_choice = widgets.Dropdown(\n",
    "    options = ['Most racks', 'Most Incoming',\n",
    "               'Most deliver', 'Most transactions',\n",
    "               'Least outgoing', 'Most city'])\n",
    "\n",
    "racks = get_most_racks()['Warehouses']\n",
    "wids = [pair['wid'] for pair in racks]\n",
    "counts = [pair['count'] for pair in racks]\n",
    "fig = plt.figure()\n",
    "bar_chart = plt.bar(\n",
    "    wids, \n",
    "    counts, \n",
    "    scales={'x':bqplot.OrdinalScale()}\n",
    ")\n",
    "plt.xlabel('WID')\n",
    "plt.ylabel('Count')\n",
    "plt.title('Warehouses with most racks')\n",
    "\n",
    "plt.show()\n",
    "    "
   ]
  },
  {
   "cell_type": "code",
   "execution_count": null,
   "id": "7157a3b1-1f99-45d5-8522-dd399e2dbb7f",
   "metadata": {},
   "outputs": [],
   "source": []
  },
  {
   "cell_type": "code",
   "execution_count": null,
   "id": "5a00bbd5-c410-419f-857c-62a464d8c2ea",
   "metadata": {},
   "outputs": [],
   "source": []
  }
 ],
 "metadata": {
  "kernelspec": {
   "display_name": "Python 3 (ipykernel)",
   "language": "python",
   "name": "python3"
  },
  "language_info": {
   "codemirror_mode": {
    "name": "ipython",
    "version": 3
   },
   "file_extension": ".py",
   "mimetype": "text/x-python",
   "name": "python",
   "nbconvert_exporter": "python",
   "pygments_lexer": "ipython3",
   "version": "3.8.10"
  }
 },
 "nbformat": 4,
 "nbformat_minor": 5
}
