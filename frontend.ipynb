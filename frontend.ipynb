{
 "cells": [
  {
   "cell_type": "markdown",
   "id": "7a9848c9",
   "metadata": {},
   "source": [
    "##  Import dependencies"
   ]
  },
  {
   "cell_type": "code",
   "execution_count": 729,
   "id": "279f3e76-a48e-467a-89d8-941c6fe10ee1",
   "metadata": {},
   "outputs": [],
   "source": [
    "import requests\n",
    "import ipywidgets as widgets\n",
    "from IPython.display import display\n",
    "import functools"
   ]
  },
  {
   "cell_type": "code",
   "execution_count": 730,
   "id": "06d76993-e310-4e26-a3f1-9a0551c24920",
   "metadata": {},
   "outputs": [],
   "source": [
    "from bqplot import pyplot as plt\n",
    "import bqplot\n",
    "import numpy as np"
   ]
  },
  {
   "cell_type": "markdown",
   "id": "1fb544c1",
   "metadata": {},
   "source": [
    "## setup connection to the server"
   ]
  },
  {
   "cell_type": "code",
   "execution_count": 731,
   "id": "a0094fb0-d4a4-49a1-a673-93b1f6159a6c",
   "metadata": {},
   "outputs": [],
   "source": [
    "local_url = \"http://127.0.0.1:5000/los-cangri/\"\n",
    "online_url = \"https://los-cangris-d8db459397d0.herokuapp.com/los-cangri/\"\n",
    "local = False\n",
    "\n",
    "base_url = local_url if local else online_url \n",
    "\n",
    "#helper url's\n",
    "warehouse_url = base_url+'warehouse'\n",
    "most_url = base_url+'most/'\n",
    "least_url = base_url+'least/'\n",
    "part_url = base_url+'part'"
   ]
  },
  {
   "cell_type": "code",
   "execution_count": 732,
   "id": "b156e451-db25-4329-ba52-bd74dad536c4",
   "metadata": {},
   "outputs": [
    {
     "data": {
      "text/plain": [
       "<Response [200]>"
      ]
     },
     "execution_count": 732,
     "metadata": {},
     "output_type": "execute_result"
    }
   ],
   "source": [
    "data = requests.get(warehouse_url)\n",
    "data"
   ]
  },
  {
   "cell_type": "code",
   "execution_count": 733,
   "id": "b1a87120-6096-47e7-80cf-d9cc91dab727",
   "metadata": {},
   "outputs": [
    {
     "data": {
      "application/vnd.jupyter.widget-view+json": {
       "model_id": "f6285a6a5a3f481e86526250b780e344",
       "version_major": 2,
       "version_minor": 0
      },
      "text/plain": [
       "Accordion(children=(HTML(value='<h3>global statistics</h3>\\n<p>a. /most/rack – Top 10 warehouses with the most…"
      ]
     },
     "metadata": {},
     "output_type": "display_data"
    }
   ],
   "source": [
    "from markdown import markdown\n",
    "accordion = widgets.Accordion()\n",
    "text_global_stats = \"\"\"\n",
    "### global statistics\n",
    "a. /most/rack – Top 10 warehouses with the most racks\n",
    "\n",
    "b. /most/incoming – Top 5 warehouses with the most incoming transactions\n",
    "\n",
    "c. /most/deliver – Top 5 warehouses that delivers the most exchanges\n",
    "\n",
    "d. /most/transactions – Top 3 users that made the most transactionse.\n",
    "\n",
    "e. /least/outgoing – Top 3 warehouses with the least outgoing transactions\n",
    "\n",
    "f. /most/city – Top 3 warehouses’ cities with the most transactions\n",
    "\"\"\"\n",
    "\n",
    "text_local_stats = \"\"\"\n",
    "### local statistics\n",
    "\n",
    "a. /warehouse/<id>/profit – Warehouse’s year profit\n",
    "\n",
    "b. /warehouse/<id>/rack/lowstock – Top 5 racks with quantity under the 25% capacity \n",
    "threshold\n",
    "\n",
    "c. /warehouse/<id>/rack/material – Bottom 3 part’s type/material in the warehouse\n",
    "\n",
    "d. /warehouse/<id>/rack/expensive – Top 5 most expensive racks in the warehouse\n",
    "\n",
    "e. /warehouse/<id>/transaction/suppliers – Top 3 supplier that supplied to the warehouse \n",
    "\n",
    "f. /warehouse/<id>/transaction/leastcost – Top 3 days with the smallest incoming \n",
    "transactions’ cost\n",
    "\n",
    "g. /warehouse/<id>/users/receivesmost – Top 3 users that receives the most exchanges\n",
    "\"\"\"\n",
    "\n",
    "text_global_stats = widgets.HTML(value=markdown(text_global_stats))\n",
    "text_local_stats = widgets.HTML(value=markdown(text_local_stats))\n",
    "\n",
    "accordion.children = [text_global_stats, text_local_stats]\n",
    "accordion.set_title(0, 'Global Statistics Endpoints')\n",
    "accordion.set_title(1, 'Local Statistics Endpoints')\n",
    "display(accordion)"
   ]
  },
  {
   "cell_type": "markdown",
   "id": "a8ebe10e",
   "metadata": {},
   "source": [
    "## helper functions"
   ]
  },
  {
   "cell_type": "markdown",
   "id": "f812e659",
   "metadata": {},
   "source": [
    "<!-- ### global statistics\n",
    "a. /most/rack – Top 10 warehouses with the most racks\n",
    "\n",
    "b. /most/incoming – Top 5 warehouses with the most incoming transactions\n",
    "\n",
    "c. /most/deliver – Top 5 warehouses that delivers the most exchanges\n",
    "\n",
    "d. /most/transactions – Top 3 users that made the most transactionse.\n",
    "\n",
    "e. /least/outgoing – Top 3 warehouses with the least outgoing transactions\n",
    "\n",
    "f. /most/city – Top 3 warehouses’ cities with the most transactions -->\n"
   ]
  },
  {
   "cell_type": "code",
   "execution_count": 734,
   "id": "18301e39-7c6d-456d-a20a-dbc4323474d4",
   "metadata": {},
   "outputs": [],
   "source": [
    "def get_most_racks():\n",
    "    data = requests.get(most_url+'rack')\n",
    "    return data.json()\n",
    "\n",
    "def get_most_incoming():\n",
    "    data = requests.get(most_url+'incoming')\n",
    "    return data.json()\n",
    "\n",
    "def get_most_deliver():\n",
    "    data = requests.get(most_url+'deliver')\n",
    "    return data.json()  \n",
    "\n",
    "def get_most_transactions():\n",
    "    data = requests.get(most_url+'transactions') # most transactions endpoint does not exist - need to FIX\n",
    "    return data.json()  \n",
    "\n",
    "def get_least_outgoing():\n",
    "    data = requests.get(least_url+'outgoing')\n",
    "    return data.json()  \n",
    "\n",
    "def get_most_city():\n",
    "    data = requests.get(most_url+'city')\n",
    "    return data.json()  \n",
    "\n"
   ]
  },
  {
   "cell_type": "code",
   "execution_count": 735,
   "id": "2223f744",
   "metadata": {},
   "outputs": [],
   "source": [
    "def display_warehouses_global_stat_graph(json, label):\n",
    "    # count vs wid\n",
    "    racks = json['Warehouses']\n",
    "    wids = [pair['wid'] for pair in racks]\n",
    "    counts = [pair['count'] for pair in racks]\n",
    "    fig = plt.figure()\n",
    "    bar_chart = plt.bar(\n",
    "        wids, \n",
    "        counts, \n",
    "        scales={'x':bqplot.OrdinalScale()}\n",
    "    )\n",
    "    plt.xlabel('WID')\n",
    "    plt.ylabel('Count')\n",
    "    plt.title(label)\n",
    "\n",
    "    plt.show()"
   ]
  },
  {
   "cell_type": "code",
   "execution_count": 736,
   "id": "5c34a498",
   "metadata": {},
   "outputs": [],
   "source": [
    "def display_warehouse_with_most_racks():\n",
    "    label = \"Warehouses with most racks\"\n",
    "    json = get_most_racks()\n",
    "    display_warehouses_global_stat_graph(json, label)\n",
    "\n",
    "# display_warehouse_with_most_racks()"
   ]
  },
  {
   "cell_type": "code",
   "execution_count": 737,
   "id": "f0eb7754",
   "metadata": {},
   "outputs": [],
   "source": [
    "def display_warehouse_with_most_incoming_transactions():\n",
    "    label = \"Warehouses with most incoming transactions\"\n",
    "    json = get_most_incoming()\n",
    "    display_warehouses_global_stat_graph(json, label)\n",
    "\n",
    "# display_warehouse_with_most_incoming_transactions()"
   ]
  },
  {
   "cell_type": "code",
   "execution_count": 738,
   "id": "c1c3c6ac",
   "metadata": {},
   "outputs": [],
   "source": [
    "def display_warehouse_with_most_exchanges():\n",
    "    label = \"Warehouses with most exchanges\"\n",
    "    json = get_most_deliver()\n",
    "    display_warehouses_global_stat_graph(json, label)\n",
    "\n",
    "# display_warehouse_with_most_exchanges()"
   ]
  },
  {
   "cell_type": "code",
   "execution_count": 739,
   "id": "e4581221",
   "metadata": {},
   "outputs": [],
   "source": [
    "def display_warehouse_with_most_transactions():\n",
    "    label = \"Warehouses with most transactions\"\n",
    "    # most transactions endpoint does not exist\n",
    "    \n",
    "    # json = get_most_transactions()\n",
    "    # display_warehouses_global_stat_graph(json, label)\n",
    "    return \"most transactions endpoint does not exist\"\n",
    "\n",
    "# display_warehouse_with_most_transactions()"
   ]
  },
  {
   "cell_type": "code",
   "execution_count": 740,
   "id": "543ed2f7",
   "metadata": {},
   "outputs": [],
   "source": [
    "def display_warehouse_with_least_outgoing():\n",
    "    label = \"Warehouses with least outgoing\"\n",
    "    json = get_least_outgoing()\n",
    "    display_warehouses_global_stat_graph(json, label)\n",
    "\n",
    "# display_warehouse_with_least_outgoing()"
   ]
  },
  {
   "cell_type": "code",
   "execution_count": 741,
   "id": "e373e1bc",
   "metadata": {},
   "outputs": [],
   "source": [
    "def display_cities_with_most_warehouse_transactions():\n",
    "    label = \"Cities with most warehouse transactions\"\n",
    "    json = get_most_city()\n",
    "    cities_pair = json['Citites']\n",
    "    cities = [pair['city'] for pair in cities_pair]\n",
    "    counts = [pair['count'] for pair in cities_pair]\n",
    "    fig = plt.figure()\n",
    "    bar_chart = plt.bar(\n",
    "        cities, \n",
    "        counts, \n",
    "        scales={'x':bqplot.OrdinalScale()}\n",
    "    )\n",
    "    plt.xlabel('Cities')\n",
    "    plt.ylabel('Count')\n",
    "    plt.title(label)\n",
    "\n",
    "    plt.show()\n",
    "\n",
    "# display_cities_with_most_warehouse_transactions()"
   ]
  },
  {
   "cell_type": "markdown",
   "id": "73c9a371",
   "metadata": {},
   "source": [
    "<!-- ### local statistics\n",
    "\n",
    "a. /warehouse/<id>/profit – Warehouse’s year profit\n",
    "\n",
    "b. /warehouse/<id>/rack/lowstock – Top 5 racks with quantity under the 25% capacity \n",
    "threshold\n",
    "\n",
    "c. /warehouse/<id>/rack/material – Bottom 3 part’s type/material in the warehouse\n",
    "\n",
    "d. /warehouse/<id>/rack/expensive – Top 5 most expensive racks in the warehouse\n",
    "\n",
    "e. /warehouse/<id>/transaction/suppliers – Top 3 supplier that supplied to the warehouse \n",
    "\n",
    "f. /warehouse/<id>/transaction/leastcost – Top 3 days with the smallest incoming \n",
    "transactions’ cost\n",
    "\n",
    "g. /warehouse/<id>/users/receivesmost – Top 3 users that receives the most exchanges -->"
   ]
  },
  {
   "cell_type": "code",
   "execution_count": 742,
   "id": "919df977",
   "metadata": {},
   "outputs": [],
   "source": [
    "def get_warehouse_profit(wid:int, uid:int):\n",
    "    perms = {'User_id': uid}\n",
    "    data = requests.post(warehouse_url+f'/{wid}/profit', json=perms)\n",
    "    return data.json()\n",
    "\n",
    "def get_warehouse_data(wid:int):\n",
    "    data = requests.get(warehouse_url+f'/{wid}')\n",
    "    return data.json()\n",
    "\n",
    "def get_part_data():\n",
    "    data = requests.get(part_url)\n",
    "    return data.json() "
   ]
  },
  {
   "cell_type": "code",
   "execution_count": 743,
   "metadata": {},
   "outputs": [],
   "source": [
    "def display_part_prices(out, limit):\n",
    "    out.clear_output()\n",
    "    json = get_part_data()\n",
    "    parts_info = json['Parts']\n",
    "    max_display = 0\n",
    "    #try and except here to avoid weird errors\n",
    "    try:\n",
    "        max_display = limit.new\n",
    "    except:\n",
    "        if not limit:\n",
    "            max_display = len(parts_info)\n",
    "        else:\n",
    "            max_display = limit\n",
    "    count = 0\n",
    "    with out:\n",
    "        for parts_tup  in parts_info:\n",
    "            if count >= max_display:\n",
    "                break\n",
    "            pname = parts_tup['pname']\n",
    "            ptype = parts_tup['ptype']\n",
    "            pprice = parts_tup['pprice']\n",
    "            pid = parts_tup['pid']\n",
    "            print(f'The {ptype} {pname} costs: ${pprice} (pid: {pid})')\n",
    "            count += 1\n",
    "    "
   ]
  },
  {
   "cell_type": "markdown",
   "id": "4528ba23",
   "metadata": {},
   "source": [
    "### dropdown code"
   ]
  },
  {
   "cell_type": "code",
   "execution_count": 744,
   "id": "30e136af-d664-40ff-9c3d-c4b1e648459d",
   "metadata": {},
   "outputs": [
    {
     "data": {
      "application/vnd.jupyter.widget-view+json": {
       "model_id": "c871f755ebdd4d229637f05a7ac4f7a7",
       "version_major": 2,
       "version_minor": 0
      },
      "text/plain": [
       "VBox(children=(HBox(children=(Dropdown(options=('Local Statistics', 'Global Statistics', 'Transactions', 'Part…"
      ]
     },
     "metadata": {},
     "output_type": "display_data"
    }
   ],
   "source": [
    "local_choices = ['profit', 'lowstock', 'material', \n",
    "                 'expensive', 'suppliers', 'leastcost'\n",
    "                 , 'receivesmost']\n",
    "global_choices = ['mostrack', 'mostincoming', 'mostdeliver',\n",
    "                  'mosttransactions', 'leastoutgoing', 'mostcity']\n",
    "\n",
    "part_info_choices = ['Part Prices', 'Parts Supplied by Supplier', 'Parts in a Warehouse']\n",
    "\n",
    "main_choices = ['Local Statistics', 'Global Statistics', 'Transactions', 'Part Information']\n",
    "\n",
    "#Add choices that need wid + uid here\n",
    "choices_need_uid = ['Local Statistics', 'Transactions', 'Parts in a Warehouse']\n",
    "\n",
    "main_selection = widgets.Dropdown(options = main_choices, value=main_choices[0])\n",
    "entity_selection = widgets.Dropdown(options =  ['Warehouse','User'])\n",
    "statistic_choice = widgets.Dropdown(\n",
    "    options = local_choices)\n",
    "choice_output = widgets.Output()\n",
    "\n",
    "#Supplier selection for parts and Wid selection for parts and transactions\n",
    "supplier_choice = widgets.BoundedIntText(value=1, description='Supplier:', min=1)\n",
    "wid_choice = widgets.BoundedIntText(value=1, description='Wid:', min=1)\n",
    "\n",
    "user_id = widgets.BoundedIntText(value=None, description='User ID:', min=1)\n",
    "part_amount = widgets.BoundedIntText(value=None,description='Display #:', min=1)\n",
    "display_all_btn = widgets.Button(description='Display All: Off')\n",
    "    \n",
    "\n",
    "#display(main_selection, statistic_choice)\n",
    "#reset widget values and return displays that may be 'default'\n",
    "def reset_choices():\n",
    "    #Dispaly wid and uid selection when needed\n",
    "    if main_selection.value in choices_need_uid or statistic_choice.value in choices_need_uid: \n",
    "        user_id.layout.display = None\n",
    "        wid_choice.layout.display = None\n",
    "    else:\n",
    "        user_id.layout.display = 'none'\n",
    "        wid_choice.layout.display = 'None'\n",
    "\n",
    "    #reset values\n",
    "    supplier_choice.value = 1\n",
    "    wid_choice.value = 1\n",
    "    part_amount.value = 1\n",
    "    display_all_btn.description = 'Display All: Off'\n",
    "    \n",
    "\n",
    "    #reset to default visibility\n",
    "    display_all_btn.layout.display = 'none'\n",
    "    supplier_choice.layout.display = 'none'\n",
    "    part_amount.layout.display = 'none'\n",
    "    statistic_choice.layout.display = None\n",
    "\n",
    "def display_part_selections(change):\n",
    "    user_id.layout.display = 'none'\n",
    "    reset_choices()\n",
    "    current = change.new\n",
    "    if current == 'Parts Supplied by Supplier':\n",
    "        supplier_choice.layout.display = None\n",
    "    elif current == 'Parts in a Warehouse':\n",
    "        wid_choice.layout.display = None\n",
    "    elif current == 'Part Prices':\n",
    "        display_all_btn.layout.display = None\n",
    "        part_amount.layout.display = None\n",
    "\n",
    "def update_statistic_choice(change):\n",
    "    reset_choices()\n",
    "    current = change.new\n",
    "    new_choices = None\n",
    "    if current == 'Local Statistics':\n",
    "        new_choices = local_choices\n",
    "    elif current == 'Global Statistics':\n",
    "        new_choices = global_choices\n",
    "    elif current == 'Part Information':\n",
    "        new_choices = part_info_choices\n",
    "    elif current == 'Transactions':\n",
    "        statistic_choice.layout.display = 'none'\n",
    "        return\n",
    "    statistic_choice.options = new_choices\n",
    "    statistic_choice.value = new_choices[0]\n",
    "    \n",
    "#button toggle\n",
    "#note: b is a placeholder parameter, need it to work lol\n",
    "def button_click_part(output, b):\n",
    "    part_amount.disabled = not part_amount.disabled\n",
    "    if display_all_btn.description == 'Display All: On':\n",
    "        display_all_btn.description = 'Display All: Off'\n",
    "        display_part_prices(output, part_amount.value)\n",
    "    elif display_all_btn.description == 'Display All: Off':\n",
    "        display_all_btn.description = 'Display All: On'   \n",
    "        display_part_prices(output, None)  \n",
    "\n",
    "    \n",
    "\n",
    "reset_choices()\n",
    "display_box = widgets.HBox([main_selection, statistic_choice])\n",
    "# selection_box = widgets.GridBox([wid_choice, supplier_choice, user_id],\n",
    "#                                layout=widgets.Layout(grid_template_columns=\"repeat(3, 300px)\"))\n",
    "selection_box =  widgets.HBox([wid_choice, supplier_choice, user_id, display_all_btn, part_amount])\n",
    "\n",
    "# display_box = widgets.HBox([main_selection, statistic_choice, wid_choice, supplier_choice])\n",
    "\n",
    "display_box.layout.justify_content = 'center'\n",
    "selection_box.layout.justify_content = 'center'\n",
    "\n",
    "centralized_box = widgets.VBox([display_box,selection_box])\n",
    "centralized_box.layout.justify_content = 'center'\n",
    "display(centralized_box)\n",
    "\n",
    "# display(display_box)\n",
    "# display(selection_box)\n",
    "\n",
    "#sets main_selection callback to update the choice of statistics\n",
    "main_selection.observe(update_statistic_choice, names='value')\n",
    "statistic_choice.observe(display_part_selections, names='value')\n",
    "\n",
    "\n",
    "\n",
    "    "
   ]
  },
  {
   "cell_type": "markdown",
   "id": "37099d4c",
   "metadata": {},
   "source": [
    "#### dropdown graph selecion"
   ]
  },
  {
   "cell_type": "code",
   "execution_count": 745,
   "id": "8e097c82",
   "metadata": {},
   "outputs": [
    {
     "data": {
      "application/vnd.jupyter.widget-view+json": {
       "model_id": "b0096258f7794e3bbd136bc1be96afbb",
       "version_major": 2,
       "version_minor": 0
      },
      "text/plain": [
       "Output()"
      ]
     },
     "metadata": {},
     "output_type": "display_data"
    }
   ],
   "source": [
    "graph_output = widgets.Output()\n",
    "\n",
    "def view_statistic(option):\n",
    "    graph_output.clear_output()\n",
    "    curr = option.new\n",
    "    with graph_output:\n",
    "        if curr == 'mostrack':\n",
    "            display_warehouse_with_most_racks()\n",
    "        elif curr == 'mostincoming':\n",
    "            display_warehouse_with_most_incoming_transactions()\n",
    "        elif curr=='mostdeliver':\n",
    "            display_warehouse_with_most_exchanges()\n",
    "        elif curr == 'mosttransactions':\n",
    "            display_warehouse_with_most_transactions()\n",
    "        elif curr == 'leastoutgoing':\n",
    "            display_warehouse_with_least_outgoing()\n",
    "        elif curr == 'mostcity':\n",
    "            display_cities_with_most_warehouse_transactions()\n",
    "        elif curr == 'Part Prices':\n",
    "            display_part_prices(graph_output, user_id.value)\n",
    "    pass    \n",
    "statistic_choice.observe(view_statistic, names = 'value')\n",
    "\n",
    "#For Part Prices\n",
    "display_all_btn.on_click(functools.partial(button_click_part, graph_output))\n",
    "if display_all_btn.description == 'Display All: Off':\n",
    "    part_amount.observe(functools.partial(display_part_prices, graph_output), names='value')\n",
    "display(graph_output)"
   ]
  }
 ],
 "metadata": {
  "kernelspec": {
   "display_name": "Python 3 (ipykernel)",
   "language": "python",
   "name": "python3"
  },
  "language_info": {
   "codemirror_mode": {
    "name": "ipython",
    "version": 3
   },
   "file_extension": ".py",
   "mimetype": "text/x-python",
   "name": "python",
   "nbconvert_exporter": "python",
   "pygments_lexer": "ipython3",
   "version": "3.10.6"
  }
 },
 "nbformat": 4,
 "nbformat_minor": 5
}
