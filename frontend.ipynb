{
 "cells": [
  {
   "cell_type": "markdown",
   "id": "7a9848c9",
   "metadata": {},
   "source": [
    "##  Import dependencies"
   ]
  },
  {
   "cell_type": "code",
   "execution_count": 12,
   "id": "279f3e76-a48e-467a-89d8-941c6fe10ee1",
   "metadata": {},
   "outputs": [],
   "source": [
    "import requests\n",
    "import ipywidgets as widgets\n",
    "from IPython.display import display"
   ]
  },
  {
   "cell_type": "code",
   "execution_count": 13,
   "id": "06d76993-e310-4e26-a3f1-9a0551c24920",
   "metadata": {},
   "outputs": [],
   "source": [
    "from bqplot import pyplot as plt\n",
    "import bqplot\n",
    "import numpy as np"
   ]
  },
  {
   "cell_type": "markdown",
   "id": "1fb544c1",
   "metadata": {},
   "source": [
    "## setup connection to the server"
   ]
  },
  {
   "cell_type": "code",
   "execution_count": 14,
   "id": "a0094fb0-d4a4-49a1-a673-93b1f6159a6c",
   "metadata": {},
   "outputs": [],
   "source": [
    "local_url = \"http://127.0.0.1:5000/los-cangri/\"\n",
    "online_url = \"https://los-cangris-d8db459397d0.herokuapp.com/los-cangri/\"\n",
    "local = False\n",
    "\n",
    "base_url = local_url if local else online_url \n",
    "\n",
    "#helper url's\n",
    "warehouse_url = base_url+'warehouse'\n",
    "most_url = base_url+'most/'\n",
    "least_url = base_url+'least/'"
   ]
  },
  {
   "cell_type": "code",
   "execution_count": 15,
   "id": "b156e451-db25-4329-ba52-bd74dad536c4",
   "metadata": {},
   "outputs": [
    {
     "data": {
      "text/plain": [
       "<Response [200]>"
      ]
     },
     "execution_count": 15,
     "metadata": {},
     "output_type": "execute_result"
    }
   ],
   "source": [
    "data = requests.get(warehouse_url)\n",
    "data"
   ]
  },
  {
   "cell_type": "code",
   "execution_count": null,
   "id": "b1a87120-6096-47e7-80cf-d9cc91dab727",
   "metadata": {},
   "outputs": [],
   "source": [
    "from markdown import markdown\n",
    "accordion = widgets.Accordion()\n",
    "text_global_stats = \"\"\"\n",
    "### global statistics\n",
    "a. /most/rack – Top 10 warehouses with the most racks\n",
    "\n",
    "b. /most/incoming – Top 5 warehouses with the most incoming transactions\n",
    "\n",
    "c. /most/deliver – Top 5 warehouses that delivers the most exchanges\n",
    "\n",
    "d. /most/transactions – Top 3 users that made the most transactionse.\n",
    "\n",
    "e. /least/outgoing – Top 3 warehouses with the least outgoing transactions\n",
    "\n",
    "f. /most/city – Top 3 warehouses’ cities with the most transactions\n",
    "\"\"\"\n",
    "\n",
    "text_local_stats = \"\"\"\n",
    "### local statistics\n",
    "\n",
    "a. /warehouse/<id>/profit – Warehouse’s year profit\n",
    "\n",
    "b. /warehouse/<id>/rack/lowstock – Top 5 racks with quantity under the 25% capacity \n",
    "threshold\n",
    "\n",
    "c. /warehouse/<id>/rack/material – Bottom 3 part’s type/material in the warehouse\n",
    "\n",
    "d. /warehouse/<id>/rack/expensive – Top 5 most expensive racks in the warehouse\n",
    "\n",
    "e. /warehouse/<id>/transaction/suppliers – Top 3 supplier that supplied to the warehouse \n",
    "\n",
    "f. /warehouse/<id>/transaction/leastcost – Top 3 days with the smallest incoming \n",
    "transactions’ cost\n",
    "\n",
    "g. /warehouse/<id>/users/receivesmost – Top 3 users that receives the most exchanges\n",
    "\"\"\"\n",
    "\n",
    "text_global_stats = widgets.HTML(value=markdown(text_global_stats))\n",
    "text_local_stats = widgets.HTML(value=markdown(text_local_stats))\n",
    "\n",
    "accordion.children = [text_global_stats, text_local_stats]\n",
    "accordion.set_title(0, 'Global Statistics Endpoints')\n",
    "accordion.set_title(1, 'Local Statistics Endpoints')\n",
    "display(accordion)"
   ]
  },
  {
   "cell_type": "markdown",
   "id": "a8ebe10e",
   "metadata": {},
   "source": [
    "## helper functions"
   ]
  },
  {
   "cell_type": "markdown",
   "id": "f812e659",
   "metadata": {},
   "source": [
    "<!-- ### global statistics\n",
    "a. /most/rack – Top 10 warehouses with the most racks\n",
    "\n",
    "b. /most/incoming – Top 5 warehouses with the most incoming transactions\n",
    "\n",
    "c. /most/deliver – Top 5 warehouses that delivers the most exchanges\n",
    "\n",
    "d. /most/transactions – Top 3 users that made the most transactionse.\n",
    "\n",
    "e. /least/outgoing – Top 3 warehouses with the least outgoing transactions\n",
    "\n",
    "f. /most/city – Top 3 warehouses’ cities with the most transactions -->\n"
   ]
  },
  {
   "cell_type": "code",
   "execution_count": 16,
   "id": "18301e39-7c6d-456d-a20a-dbc4323474d4",
   "metadata": {},
   "outputs": [],
   "source": [
    "def get_most_racks():\n",
    "    data = requests.get(most_url+'rack')\n",
    "    return data.json()\n",
    "\n",
    "def get_most_incoming():\n",
    "    data = requests.get(most_url+'incoming')\n",
    "    return data.json()\n",
    "\n",
    "def get_most_deliver():\n",
    "    data = requests.get(most_url+'deliver')\n",
    "    return data.json()  \n",
    "\n",
    "def get_most_transactions():\n",
    "    data = requests.get(most_url+'transactions') # most transactions endpoint does not exist - need to FIX\n",
    "    return data.json()  \n",
    "\n",
    "def get_least_outgoing():\n",
    "    data = requests.get(least_url+'outgoing')\n",
    "    return data.json()  \n",
    "\n",
    "def get_most_city():\n",
    "    data = requests.get(most_url+'city')\n",
    "    return data.json()  \n",
    "\n"
   ]
  },
  {
   "cell_type": "code",
   "execution_count": 17,
   "id": "2223f744",
   "metadata": {},
   "outputs": [],
   "source": [
    "def display_warehouses_global_stat_graph(json, label):\n",
    "    # count vs wid\n",
    "    racks = json['Warehouses']\n",
    "    wids = [pair['wid'] for pair in racks]\n",
    "    counts = [pair['count'] for pair in racks]\n",
    "    fig = plt.figure()\n",
    "    bar_chart = plt.bar(\n",
    "        wids, \n",
    "        counts, \n",
    "        scales={'x':bqplot.OrdinalScale()}\n",
    "    )\n",
    "    plt.xlabel('WID')\n",
    "    plt.ylabel('Count')\n",
    "    plt.title(label)\n",
    "\n",
    "    plt.show()"
   ]
  },
  {
   "cell_type": "code",
   "execution_count": 18,
   "id": "5c34a498",
   "metadata": {},
   "outputs": [
    {
     "data": {
      "application/vnd.jupyter.widget-view+json": {
       "model_id": "e5eede07548544b9b58812d727b22c1f",
       "version_major": 2,
       "version_minor": 0
      },
      "text/plain": [
       "VBox(children=(Figure(axes=[Axis(label='WID', scale=OrdinalScale()), Axis(label='Count', orientation='vertical…"
      ]
     },
     "metadata": {},
     "output_type": "display_data"
    }
   ],
   "source": [
    "def display_warehouse_with_most_racks():\n",
    "    label = \"Warehouses with most racks\"\n",
    "    json = get_most_racks()\n",
    "    display_warehouses_global_stat_graph(json, label)\n",
    "\n",
    "# display_warehouse_with_most_racks()"
   ]
  },
  {
   "cell_type": "code",
   "execution_count": 19,
   "id": "f0eb7754",
   "metadata": {},
   "outputs": [
    {
     "data": {
      "application/vnd.jupyter.widget-view+json": {
       "model_id": "4eb92ebe41694767aaf69ce733d43149",
       "version_major": 2,
       "version_minor": 0
      },
      "text/plain": [
       "VBox(children=(Figure(axes=[Axis(label='WID', scale=OrdinalScale()), Axis(label='Count', orientation='vertical…"
      ]
     },
     "metadata": {},
     "output_type": "display_data"
    }
   ],
   "source": [
    "def display_warehouse_with_most_incoming_transactions():\n",
    "    label = \"Warehouses with most incoming transactions\"\n",
    "    json = get_most_incoming()\n",
    "    display_warehouses_global_stat_graph(json, label)\n",
    "\n",
    "# display_warehouse_with_most_incoming_transactions()"
   ]
  },
  {
   "cell_type": "code",
   "execution_count": 20,
   "id": "c1c3c6ac",
   "metadata": {},
   "outputs": [
    {
     "data": {
      "application/vnd.jupyter.widget-view+json": {
       "model_id": "eb9217286bfb40e4800c9064e8a10f99",
       "version_major": 2,
       "version_minor": 0
      },
      "text/plain": [
       "VBox(children=(Figure(axes=[Axis(label='WID', scale=OrdinalScale()), Axis(label='Count', orientation='vertical…"
      ]
     },
     "metadata": {},
     "output_type": "display_data"
    }
   ],
   "source": [
    "def display_warehouse_with_most_exchanges():\n",
    "    label = \"Warehouses with most exchanges\"\n",
    "    json = get_most_deliver()\n",
    "    display_warehouses_global_stat_graph(json, label)\n",
    "\n",
    "# display_warehouse_with_most_exchanges()"
   ]
  },
  {
   "cell_type": "code",
   "execution_count": 21,
   "id": "e4581221",
   "metadata": {},
   "outputs": [],
   "source": [
    "def display_warehouse_with_most_transactions():\n",
    "    label = \"Warehouses with most transactions\"\n",
    "    # most transactions endpoint does not exist\n",
    "    \n",
    "    # json = get_most_transactions()\n",
    "    # display_warehouses_global_stat_graph(json, label)\n",
    "    return \"most transactions endpoint does not exist\"\n",
    "\n",
    "# display_warehouse_with_most_transactions()"
   ]
  },
  {
   "cell_type": "code",
   "execution_count": 22,
   "id": "543ed2f7",
   "metadata": {},
   "outputs": [
    {
     "data": {
      "application/vnd.jupyter.widget-view+json": {
       "model_id": "c3c83f880f8f43d8a5140021cdecaa0c",
       "version_major": 2,
       "version_minor": 0
      },
      "text/plain": [
       "VBox(children=(Figure(axes=[Axis(label='WID', scale=OrdinalScale()), Axis(label='Count', orientation='vertical…"
      ]
     },
     "metadata": {},
     "output_type": "display_data"
    }
   ],
   "source": [
    "def display_warehouse_with_least_outgoing():\n",
    "    label = \"Warehouses with least outgoing\"\n",
    "    json = get_least_outgoing()\n",
    "    display_warehouses_global_stat_graph(json, label)\n",
    "\n",
    "# display_warehouse_with_least_outgoing()"
   ]
  },
  {
   "cell_type": "code",
   "execution_count": 23,
   "id": "e373e1bc",
   "metadata": {},
   "outputs": [
    {
     "data": {
      "application/vnd.jupyter.widget-view+json": {
       "model_id": "6ed28bbc51e340d0a19d7af838f22def",
       "version_major": 2,
       "version_minor": 0
      },
      "text/plain": [
       "VBox(children=(Figure(axes=[Axis(label='Cities', scale=OrdinalScale()), Axis(label='Count', orientation='verti…"
      ]
     },
     "metadata": {},
     "output_type": "display_data"
    }
   ],
   "source": [
    "def display_cities_with_most_warehouse_transactions():\n",
    "    label = \"Cities with most warehouse transactions\"\n",
    "    json = get_most_city()\n",
    "    cities_pair = json['Citites']\n",
    "    cities = [pair['city'] for pair in cities_pair]\n",
    "    counts = [pair['count'] for pair in cities_pair]\n",
    "    fig = plt.figure()\n",
    "    bar_chart = plt.bar(\n",
    "        cities, \n",
    "        counts, \n",
    "        scales={'x':bqplot.OrdinalScale()}\n",
    "    )\n",
    "    plt.xlabel('Cities')\n",
    "    plt.ylabel('Count')\n",
    "    plt.title(label)\n",
    "\n",
    "    plt.show()\n",
    "\n",
    "# display_cities_with_most_warehouse_transactions()"
   ]
  },
  {
   "cell_type": "markdown",
   "id": "73c9a371",
   "metadata": {},
   "source": [
    "<!-- ### local statistics\n",
    "\n",
    "a. /warehouse/<id>/profit – Warehouse’s year profit\n",
    "\n",
    "b. /warehouse/<id>/rack/lowstock – Top 5 racks with quantity under the 25% capacity \n",
    "threshold\n",
    "\n",
    "c. /warehouse/<id>/rack/material – Bottom 3 part’s type/material in the warehouse\n",
    "\n",
    "d. /warehouse/<id>/rack/expensive – Top 5 most expensive racks in the warehouse\n",
    "\n",
    "e. /warehouse/<id>/transaction/suppliers – Top 3 supplier that supplied to the warehouse \n",
    "\n",
    "f. /warehouse/<id>/transaction/leastcost – Top 3 days with the smallest incoming \n",
    "transactions’ cost\n",
    "\n",
    "g. /warehouse/<id>/users/receivesmost – Top 3 users that receives the most exchanges -->"
   ]
  },
  {
   "cell_type": "code",
   "execution_count": 24,
   "id": "919df977",
   "metadata": {},
   "outputs": [],
   "source": [
    "def get_warehouse_profit(wid:int, uid:int):\n",
    "    perms = {'User_id': uid}\n",
    "    data = requests.post(warehouse_url+f'/{wid}/profit', json=perms)\n",
    "    return data.json()\n",
    "\n",
    "def get_warehouse_data(wid:int):\n",
    "    data = requests.get(warehouse_url+f'/{wid}')\n",
    "    return data.json()"
   ]
  },
  {
   "cell_type": "markdown",
   "id": "4528ba23",
   "metadata": {},
   "source": [
    "### dropdown code"
   ]
  },
  {
   "cell_type": "code",
   "execution_count": 26,
   "id": "30e136af-d664-40ff-9c3d-c4b1e648459d",
   "metadata": {},
   "outputs": [
    {
     "data": {
      "application/vnd.jupyter.widget-view+json": {
       "model_id": "a3d8ca0010584a399734f3c6bf5aec63",
       "version_major": 2,
       "version_minor": 0
      },
      "text/plain": [
       "VBox(children=(Dropdown(options=('Local Statistics', 'Global Statistics', 'Transactions', 'Part Information'),…"
      ]
     },
     "metadata": {},
     "output_type": "display_data"
    }
   ],
   "source": [
    "local_choices = ['profit', 'lowstock', 'material', \n",
    "                 'expensive', 'suppliers', 'leastcost'\n",
    "                 , 'receivesmost']\n",
    "global_choices = ['mostrack', 'mostincoming', 'mostdeliver',\n",
    "                  'mosttransactions', 'leastoutgoing', 'mostcity']\n",
    "\n",
    "part_info_choices = ['Part Prices', 'Parts Supplied by Supplier', 'Parts in a Warehouse']\n",
    "\n",
    "main_choices = ['Local Statistics', 'Global Statistics', 'Transactions', 'Part Information']\n",
    "\n",
    "\n",
    "main_selection = widgets.Dropdown(options = main_choices, value=main_choices[0])\n",
    "entity_selection = widgets.Dropdown(options =  ['Warehouse','User'])\n",
    "statistic_choice = widgets.Dropdown(\n",
    "    options = local_choices)\n",
    "choice_output = widgets.Output()\n",
    "\n",
    "#Supplier selection for parts and Wid selection for parts and transactions\n",
    "supplier_choice = widgets.BoundedIntText(value=1, description='Supplier:', min=1)\n",
    "wid_choice = widgets.BoundedIntText(value=1, description='Wid:', min=1)\n",
    "\n",
    "user_id = widgets.BoundedIntText(value=None, description='User ID:', min=1)\n",
    "    \n",
    "\n",
    "#display(main_selection, statistic_choice)\n",
    "def reset_choices():\n",
    "    supplier_choice.value = 1\n",
    "    wid_choice.value = 1\n",
    "    supplier_choice.layout.display = 'none'\n",
    "    wid_choice.layout.display = 'none'\n",
    "    statistic_choice.layout.display = None\n",
    "\n",
    "def display_part_selections(change):\n",
    "    reset_choices()\n",
    "    current = change.new\n",
    "    if current == 'Parts Supplied by Supplier':\n",
    "        supplier_choice.layout.display = None\n",
    "    if current == 'Parts in a Warehouse':\n",
    "        wid_choice.layout.display = None\n",
    "\n",
    "def update_statistic_choice(change):\n",
    "    reset_choices()\n",
    "    current = change.new\n",
    "    new_choices = None\n",
    "    if current == 'Local Statistics':\n",
    "        new_choices = local_choices\n",
    "    elif current == 'Global Statistics':\n",
    "        new_choices = global_choices\n",
    "    elif current == 'Part Information':\n",
    "        new_choices = part_info_choices\n",
    "    elif current == 'Transactions':\n",
    "        statistic_choice.layout.display = 'none'\n",
    "        wid_choice.layout.display = None\n",
    "        return\n",
    "    statistic_choice.options = new_choices\n",
    "    statistic_choice.value = new_choices[0]\n",
    "    \n",
    "reset_choices()\n",
    "display_box = widgets.HBox([main_selection, statistic_choice])\n",
    "selection_box = widgets.GridBox([wid_choice, supplier_choice, user_id],\n",
    "                               layout=widgets.Layout(grid_template_columns=\"repeat(3, 300px)\"))\n",
    "\n",
    "# display_box = widgets.HBox([main_selection, statistic_choice, wid_choice, supplier_choice])\n",
    "\n",
    "display_box.layout.justify_content = 'center'\n",
    "selection_box.layout.justify_content = 'center'\n",
    "\n",
    "display(display_box)\n",
    "display(selection_box)\n",
    "\n",
    "#sets main_selection callback to update the choice of statistics\n",
    "main_selection.observe(update_statistic_choice, names='value')\n",
    "statistic_choice.observe(display_part_selections, names='value')\n",
    "\n",
    "\n",
    "\n",
    "    "
   ]
  },
  {
   "cell_type": "markdown",
   "id": "37099d4c",
   "metadata": {},
   "source": [
    "#### dropdown graph selecion"
   ]
  },
  {
   "cell_type": "code",
   "execution_count": 27,
   "id": "8e097c82",
   "metadata": {},
   "outputs": [
    {
     "data": {
      "application/vnd.jupyter.widget-view+json": {
       "model_id": "5b7bd163fed24070850334bb804e68ed",
       "version_major": 2,
       "version_minor": 0
      },
      "text/plain": [
       "Output()"
      ]
     },
     "metadata": {},
     "output_type": "display_data"
    }
   ],
   "source": [
    "graph_output = widgets.Output()\n",
    "\n",
    "def view_statistic(option):\n",
    "    graph_output.clear_output()\n",
    "    curr = option.new\n",
    "    with graph_output:\n",
    "        if curr == 'mostrack':\n",
    "            display_warehouse_with_most_racks()\n",
    "        elif curr == 'mostincoming':\n",
    "            display_warehouse_with_most_incoming_transactions()\n",
    "        elif curr=='mostdeliver':\n",
    "            display_warehouse_with_most_exchanges()\n",
    "        elif curr == 'mosttransactions':\n",
    "            display_warehouse_with_most_transactions()\n",
    "        elif curr == 'leastoutgoing':\n",
    "            display_warehouse_with_least_outgoing()\n",
    "        elif curr == 'mostcity':\n",
    "            display_cities_with_most_warehouse_transactions()\n",
    "    pass    \n",
    "statistic_choice.observe(view_statistic, names = 'value')\n",
    "display(graph_output)"
   ]
  }
 ],
 "metadata": {
  "kernelspec": {
   "display_name": "Python 3 (ipykernel)",
   "language": "python",
   "name": "python3"
  },
  "language_info": {
   "codemirror_mode": {
    "name": "ipython",
    "version": 3
   },
   "file_extension": ".py",
   "mimetype": "text/x-python",
   "name": "python",
   "nbconvert_exporter": "python",
   "pygments_lexer": "ipython3",
   "version": "3.11.6"
  }
 },
 "nbformat": 4,
 "nbformat_minor": 5
}
