{
 "cells": [
  {
   "cell_type": "markdown",
   "metadata": {},
   "source": [
    "##  Import dependencies"
   ]
  },
  {
   "cell_type": "code",
   "execution_count": 83,
   "id": "279f3e76-a48e-467a-89d8-941c6fe10ee1",
   "metadata": {},
   "outputs": [],
   "source": [
    "import requests\n",
    "import ipywidgets as widgets\n",
    "from IPython.display import display"
   ]
  },
  {
   "cell_type": "code",
   "execution_count": 84,
   "id": "06d76993-e310-4e26-a3f1-9a0551c24920",
   "metadata": {},
   "outputs": [],
   "source": [
    "from bqplot import pyplot as plt\n",
    "import bqplot\n",
    "import numpy as np"
   ]
  },
  {
   "cell_type": "markdown",
   "metadata": {},
   "source": [
    "## setup connection to the server"
   ]
  },
  {
   "cell_type": "code",
   "execution_count": 85,
   "id": "a0094fb0-d4a4-49a1-a673-93b1f6159a6c",
   "metadata": {},
   "outputs": [],
   "source": [
    "local_url = \"http://127.0.0.1:5000/los-cangri/\"\n",
    "online_url = \"https://los-cangris-d8db459397d0.herokuapp.com/los-cangri/\"\n",
    "local = False\n",
    "\n",
    "\n",
    "base_url = local_url if local else online_url \n",
    "\n",
    "warehouse_url = base_url+'warehouse'\n",
    "most_url = base_url+'most/'"
   ]
  },
  {
   "cell_type": "code",
   "execution_count": 86,
   "id": "b156e451-db25-4329-ba52-bd74dad536c4",
   "metadata": {},
   "outputs": [
    {
     "data": {
      "text/plain": [
       "<Response [200]>"
      ]
     },
     "execution_count": 86,
     "metadata": {},
     "output_type": "execute_result"
    }
   ],
   "source": [
    "data = requests.get(warehouse_url)\n",
    "data"
   ]
  },
  {
   "cell_type": "markdown",
   "metadata": {},
   "source": [
    "## helper functions"
   ]
  },
  {
   "cell_type": "markdown",
   "metadata": {},
   "source": [
    "### global statistics\n",
    "a. /most/rack – Top 10 warehouses with the most racks\n",
    "\n",
    "b. /most/incoming – Top 5 warehouses with the most incoming transactions\n",
    "\n",
    "c. /most/deliver – Top 5 warehouses that delivers the most exchanges\n",
    "\n",
    "d. /most/transactions – Top 3 users that made the most transactionse.\n",
    "\n",
    "e. /least/outgoing – Top 3 warehouses with the least outgoing transactions\n",
    "\n",
    "f. /most/city – Top 3 warehouses’ cities with the most transactions\n"
   ]
  },
  {
   "cell_type": "code",
   "execution_count": 87,
   "id": "18301e39-7c6d-456d-a20a-dbc4323474d4",
   "metadata": {},
   "outputs": [],
   "source": [
    "def get_most_racks():\n",
    "    data = requests.get(most_url+'rack')\n",
    "    return data.json()\n",
    "\n",
    "def get_warehouse_most_incoming():\n",
    "    data = requests.get(most_url+'incoming')\n",
    "    return data.json()\n",
    "\n",
    "def get_warehouse_most_deliver():\n",
    "    data = requests.get(most_url+'deliver')\n",
    "\n",
    "def get_warehouse_profit(wid:int, uid:int):\n",
    "    perms = {'User_id': uid}\n",
    "    data = requests.post(warehouse_url+f'/{wid}/profit', json=perms)\n",
    "    return data.json()\n",
    "\n",
    "def get_warehouse_data(wid:int):\n",
    "    data = requests.get(warehouse_url+f'/{wid}')\n",
    "    return data.json()"
   ]
  },
  {
   "cell_type": "code",
   "execution_count": 88,
   "metadata": {},
   "outputs": [
    {
     "data": {
      "application/vnd.jupyter.widget-view+json": {
       "model_id": "d325589c17064f6bb2f5f076e2bc231f",
       "version_major": 2,
       "version_minor": 0
      },
      "text/plain": [
       "interactive(children=(IntSlider(value=1, description='wid', max=3, min=-1), Output()), _dom_classes=('widget-i…"
      ]
     },
     "metadata": {},
     "output_type": "display_data"
    },
    {
     "data": {
      "text/plain": [
       "<function __main__.get_warehouse_data(wid: int)>"
      ]
     },
     "execution_count": 88,
     "metadata": {},
     "output_type": "execute_result"
    }
   ],
   "source": [
    "widgets.interact(get_warehouse_data, wid=1)\n",
    "# widgets.interact(get_warehouse_profit, wid=1, uid=1)"
   ]
  },
  {
   "cell_type": "code",
   "execution_count": 89,
   "metadata": {},
   "outputs": [
    {
     "data": {
      "application/vnd.jupyter.widget-view+json": {
       "model_id": "49438d46e698465b9705b9a0829f15c2",
       "version_major": 2,
       "version_minor": 0
      },
      "text/plain": [
       "VBox(children=(Figure(axes=[Axis(label='WID', scale=OrdinalScale()), Axis(label='Count', orientation='vertical…"
      ]
     },
     "metadata": {},
     "output_type": "display_data"
    }
   ],
   "source": [
    "def display_warehouse_with_most_racks():\n",
    "    racks = get_most_racks()['Warehouses']\n",
    "    wids = [pair['wid'] for pair in racks]\n",
    "    counts = [pair['count'] for pair in racks]\n",
    "    fig = plt.figure()\n",
    "    bar_chart = plt.bar(\n",
    "        wids, \n",
    "        counts, \n",
    "        scales={'x':bqplot.OrdinalScale()}\n",
    "    )\n",
    "    plt.xlabel('WID')\n",
    "    plt.ylabel('Count')\n",
    "    plt.title('Warehouses with most racks')\n",
    "\n",
    "    plt.show()\n",
    "\n",
    "display_warehouse_with_most_racks()"
   ]
  },
  {
   "cell_type": "markdown",
   "metadata": {},
   "source": [
    "### dropdown code"
   ]
  },
  {
   "cell_type": "code",
   "execution_count": 90,
   "id": "30e136af-d664-40ff-9c3d-c4b1e648459d",
   "metadata": {},
   "outputs": [
    {
     "data": {
      "application/vnd.jupyter.widget-view+json": {
       "model_id": "c2450ae9156f4320b5f4f420770fda44",
       "version_major": 2,
       "version_minor": 0
      },
      "text/plain": [
       "Dropdown(options=('Local Statistics', 'Global Statistics'), value='Local Statistics')"
      ]
     },
     "metadata": {},
     "output_type": "display_data"
    },
    {
     "data": {
      "application/vnd.jupyter.widget-view+json": {
       "model_id": "a545d56178594e1faf57a19738c18f24",
       "version_major": 2,
       "version_minor": 0
      },
      "text/plain": [
       "Dropdown(options=('profit', 'lowstock', 'material', 'expensive', 'suppliers', 'leastcost', 'receivesmost'), va…"
      ]
     },
     "metadata": {},
     "output_type": "display_data"
    }
   ],
   "source": [
    "local_choices = ['profit', 'lowstock', 'material', \n",
    "                 'expensive', 'suppliers', 'leastcost'\n",
    "                 , 'receivesmost']\n",
    "global_choices = ['mostrack', 'mostincoming', 'mostdeliver',\n",
    "                  'mosttransactions', 'leastoutgoing', 'mostcity']\n",
    "\n",
    "main_choices = ['Local Statistics', 'Global Statistics']\n",
    "\n",
    "\n",
    "main_selection = widgets.Dropdown(options = main_choices, value=main_choices[0])\n",
    "entity_selection = widgets.Dropdown(options =  ['Warehouse','User'])\n",
    "statistic_choice = widgets.Dropdown(\n",
    "    options = local_choices)\n",
    "choice_output = widgets.Output()\n",
    "\n",
    "display(main_selection, statistic_choice)\n",
    "\n",
    "def update_statistic_choice(change):\n",
    "    current = change.new\n",
    "    new_choices = None\n",
    "    if current == 'Local Statistics':\n",
    "        new_choices = local_choices\n",
    "    elif current == 'Global Statistics':\n",
    "        new_choices = global_choices\n",
    "\n",
    "    statistic_choice.options = new_choices\n",
    "    statistic_choice.value = new_choices[0]\n",
    "\n",
    "\n",
    "#sets main_selection callback to update the choice of statistics\n",
    "main_selection.observe(update_statistic_choice, names='value')\n",
    "\n",
    "\n",
    "\n",
    "    "
   ]
  },
  {
   "cell_type": "markdown",
   "metadata": {},
   "source": [
    "#### dropdown graph selecion"
   ]
  },
  {
   "cell_type": "code",
   "execution_count": 91,
   "metadata": {},
   "outputs": [
    {
     "data": {
      "application/vnd.jupyter.widget-view+json": {
       "model_id": "ba7086e0e1aa431d813591a958f26518",
       "version_major": 2,
       "version_minor": 0
      },
      "text/plain": [
       "Output()"
      ]
     },
     "metadata": {},
     "output_type": "display_data"
    }
   ],
   "source": [
    "graph_output = widgets.Output()\n",
    "\n",
    "def view_statistic(option):\n",
    "    graph_output.clear_output()\n",
    "    curr = option.new\n",
    "    with graph_output:\n",
    "        if curr == 'mostrack':\n",
    "            display_warehouse_with_most_racks()\n",
    "        elif curr == 'mostincoming':\n",
    "            pass\n",
    "    \n",
    "    \n",
    "    pass    \n",
    "statistic_choice.observe(view_statistic, names = 'value')\n",
    "display(graph_output)"
   ]
  }
 ],
 "metadata": {
  "kernelspec": {
   "display_name": "Python 3 (ipykernel)",
   "language": "python",
   "name": "python3"
  },
  "language_info": {
   "codemirror_mode": {
    "name": "ipython",
    "version": 3
   },
   "file_extension": ".py",
   "mimetype": "text/x-python",
   "name": "python",
   "nbconvert_exporter": "python",
   "pygments_lexer": "ipython3",
   "version": "3.10.12"
  }
 },
 "nbformat": 4,
 "nbformat_minor": 5
}
